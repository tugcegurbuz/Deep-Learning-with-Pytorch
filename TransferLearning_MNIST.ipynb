{
  "nbformat": 4,
  "nbformat_minor": 0,
  "metadata": {
    "colab": {
      "name": "TransferLearning_MNIST.ipynb",
      "version": "0.3.2",
      "provenance": [],
      "collapsed_sections": [],
      "include_colab_link": true
    },
    "kernelspec": {
      "name": "python3",
      "display_name": "Python 3"
    },
    "accelerator": "TPU"
  },
  "cells": [
    {
      "cell_type": "markdown",
      "metadata": {
        "id": "view-in-github",
        "colab_type": "text"
      },
      "source": [
        "<a href=\"https://colab.research.google.com/github/tugcegurbuz/Pytorch/blob/master/TransferLearning_MNIST.ipynb\" target=\"_parent\"><img src=\"https://colab.research.google.com/assets/colab-badge.svg\" alt=\"Open In Colab\"/></a>"
      ]
    },
    {
      "cell_type": "markdown",
      "metadata": {
        "id": "zGQVXh0Hfkrk",
        "colab_type": "text"
      },
      "source": [
        "**Description:** Transfer learning with MNIST and AlexNet\n",
        "\n",
        "---"
      ]
    },
    {
      "cell_type": "code",
      "metadata": {
        "id": "O65Ckf5NlRIJ",
        "colab_type": "code",
        "colab": {}
      },
      "source": [
        "import torch\n",
        "import torchvision"
      ],
      "execution_count": 0,
      "outputs": []
    },
    {
      "cell_type": "code",
      "metadata": {
        "id": "3jHh5xaSlUQE",
        "colab_type": "code",
        "colab": {}
      },
      "source": [
        "#Define batch sizes\n",
        "batch_size_train = 64\n",
        "batch_size_test = 1000"
      ],
      "execution_count": 0,
      "outputs": []
    },
    {
      "cell_type": "code",
      "metadata": {
        "id": "V2jvHAYdlXyi",
        "colab_type": "code",
        "colab": {
          "base_uri": "https://localhost:8080/",
          "height": 275
        },
        "outputId": "4a9144eb-19f2-4857-a782-2aa356c84208"
      },
      "source": [
        "#MNIST data is 1 channel 28x28 sized. To be able to feed this data into AlexNet,\n",
        "#we need to transform it into 3 channels and resize it.\n",
        "\n",
        "img_size = 64\n",
        "\n",
        "#Load training and test data and do the transformations\n",
        "train_loader = torch.utils.data.DataLoader(\n",
        "  torchvision.datasets.MNIST('/files/', train=True, download=True,\n",
        "                             transform=torchvision.transforms.Compose([\n",
        "                               torchvision.transforms.Lambda(lambda img: img.convert(mode='RGB').resize((img_size, img_size)) ),\n",
        "                               torchvision.transforms.ToTensor(),\n",
        "                               torchvision.transforms.Normalize(\n",
        "                                 (0.1307,), (0.3081,))\n",
        "                             ])),\n",
        "  batch_size=batch_size_train, shuffle=True)\n",
        "\n",
        "test_loader = torch.utils.data.DataLoader(\n",
        "  torchvision.datasets.MNIST('/files/', train=False, download=True,\n",
        "                             transform=torchvision.transforms.Compose([\n",
        "                               torchvision.transforms.Lambda(lambda img: img.convert(mode='RGB').resize((img_size, img_size))  ),\n",
        "                               torchvision.transforms.ToTensor(),\n",
        "                               torchvision.transforms.Normalize(\n",
        "                                 (0.1307,), (0.3081,))\n",
        "                             ])),\n",
        "  batch_size=batch_size_test, shuffle=True)"
      ],
      "execution_count": 3,
      "outputs": [
        {
          "output_type": "stream",
          "text": [
            "  0%|          | 0/9912422 [00:00<?, ?it/s]"
          ],
          "name": "stderr"
        },
        {
          "output_type": "stream",
          "text": [
            "Downloading http://yann.lecun.com/exdb/mnist/train-images-idx3-ubyte.gz to /files/MNIST/raw/train-images-idx3-ubyte.gz\n"
          ],
          "name": "stdout"
        },
        {
          "output_type": "stream",
          "text": [
            "9920512it [00:00, 20984511.96it/s]                            \n"
          ],
          "name": "stderr"
        },
        {
          "output_type": "stream",
          "text": [
            "Extracting /files/MNIST/raw/train-images-idx3-ubyte.gz\n"
          ],
          "name": "stdout"
        },
        {
          "output_type": "stream",
          "text": [
            "32768it [00:00, 327459.37it/s]\n",
            "0it [00:00, ?it/s]"
          ],
          "name": "stderr"
        },
        {
          "output_type": "stream",
          "text": [
            "Downloading http://yann.lecun.com/exdb/mnist/train-labels-idx1-ubyte.gz to /files/MNIST/raw/train-labels-idx1-ubyte.gz\n",
            "Extracting /files/MNIST/raw/train-labels-idx1-ubyte.gz\n",
            "Downloading http://yann.lecun.com/exdb/mnist/t10k-images-idx3-ubyte.gz to /files/MNIST/raw/t10k-images-idx3-ubyte.gz\n"
          ],
          "name": "stdout"
        },
        {
          "output_type": "stream",
          "text": [
            "1654784it [00:00, 5200146.81it/s]                           \n",
            "8192it [00:00, 129174.38it/s]\n"
          ],
          "name": "stderr"
        },
        {
          "output_type": "stream",
          "text": [
            "Extracting /files/MNIST/raw/t10k-images-idx3-ubyte.gz\n",
            "Downloading http://yann.lecun.com/exdb/mnist/t10k-labels-idx1-ubyte.gz to /files/MNIST/raw/t10k-labels-idx1-ubyte.gz\n",
            "Extracting /files/MNIST/raw/t10k-labels-idx1-ubyte.gz\n",
            "Processing...\n",
            "Done!\n"
          ],
          "name": "stdout"
        }
      ]
    },
    {
      "cell_type": "code",
      "metadata": {
        "id": "Xirghsiglawp",
        "colab_type": "code",
        "outputId": "4562ba09-71a3-4ea3-fc87-e712d49412dd",
        "colab": {
          "base_uri": "https://localhost:8080/",
          "height": 34
        }
      },
      "source": [
        "#Let's see an example from test loader. The output means that, we have 1000 examples\n",
        "#in each batch with 3 channels and 64x64 pixel size\n",
        "examples = enumerate(test_loader)\n",
        "batch_idx, (example_data, example_targets) = next(examples)\n",
        "\n",
        "example_data.shape"
      ],
      "execution_count": 4,
      "outputs": [
        {
          "output_type": "execute_result",
          "data": {
            "text/plain": [
              "torch.Size([1000, 3, 64, 64])"
            ]
          },
          "metadata": {
            "tags": []
          },
          "execution_count": 4
        }
      ]
    },
    {
      "cell_type": "code",
      "metadata": {
        "id": "Lh36sx6wleaI",
        "colab_type": "code",
        "outputId": "74c42f95-1a21-4950-d4ed-c97df8468814",
        "colab": {
          "base_uri": "https://localhost:8080/",
          "height": 551
        }
      },
      "source": [
        "#Let's see some examples from the data\n",
        "\n",
        "import matplotlib.pyplot as plt\n",
        "\n",
        "fig = plt.figure()\n",
        "for i in range(6):\n",
        "  plt.subplot(2,3,i+1)\n",
        "  plt.tight_layout()\n",
        "  plt.imshow(example_data[i][0], cmap='gray', interpolation='none')\n",
        "  plt.title(\"Ground Truth: {}\".format(example_targets[i]))\n",
        "  plt.xticks([])\n",
        "  plt.yticks([])\n",
        "fig"
      ],
      "execution_count": 5,
      "outputs": [
        {
          "output_type": "execute_result",
          "data": {
            "image/png": "[encoded data removed]",
            "text/plain": [
              "<Figure size 432x288 with 6 Axes>"
            ]
          },
          "metadata": {
            "tags": []
          },
          "execution_count": 5
        },
        {
          "output_type": "display_data",
          "data": {
            "image/png": "[encoded data removed]",
            "text/plain": [
              "<Figure size 432x288 with 6 Axes>"
            ]
          },
          "metadata": {
            "tags": []
          }
        }
      ]
    },
    {
      "cell_type": "code",
      "metadata": {
        "id": "9dlogBhYocut",
        "colab_type": "code",
        "colab": {}
      },
      "source": [
        "#Get actual data\n",
        "train_data = torchvision.datasets.MNIST('/files/', train=True, transform=None, download=False)\n",
        "test_data = torchvision.datasets.MNIST('/files/', train=False, transform=None, download=False)\n",
        "\n",
        "#Store dataloaders and dataset sizes\n",
        "dataloaders = {'train': train_loader, 'val':test_loader}\n",
        "dataset_sizes = {'train': len(train_data), 'val':len(test_data)}"
      ],
      "execution_count": 0,
      "outputs": []
    },
    {
      "cell_type": "code",
      "metadata": {
        "id": "zIYSOM5JlmD5",
        "colab_type": "code",
        "outputId": "dab6c3a2-747b-46b5-f687-8cb8acab5875",
        "colab": {
          "base_uri": "https://localhost:8080/",
          "height": 510
        }
      },
      "source": [
        "#Get AlexNet model\n",
        "model_conv = torchvision.models.alexnet(pretrained=True)\n",
        "print(model_conv)"
      ],
      "execution_count": 7,
      "outputs": [
        {
          "output_type": "stream",
          "text": [
            "Downloading: \"https://download.pytorch.org/models/alexnet-owt-4df8aa71.pth\" to /root/.cache/torch/checkpoints/alexnet-owt-4df8aa71.pth\n",
            "100%|██████████| 244418560/244418560 [00:02<00:00, 81841549.39it/s]\n"
          ],
          "name": "stderr"
        },
        {
          "output_type": "stream",
          "text": [
            "AlexNet(\n",
            "  (features): Sequential(\n",
            "    (0): Conv2d(3, 64, kernel_size=(11, 11), stride=(4, 4), padding=(2, 2))\n",
            "    (1): ReLU(inplace)\n",
            "    (2): MaxPool2d(kernel_size=3, stride=2, padding=0, dilation=1, ceil_mode=False)\n",
            "    (3): Conv2d(64, 192, kernel_size=(5, 5), stride=(1, 1), padding=(2, 2))\n",
            "    (4): ReLU(inplace)\n",
            "    (5): MaxPool2d(kernel_size=3, stride=2, padding=0, dilation=1, ceil_mode=False)\n",
            "    (6): Conv2d(192, 384, kernel_size=(3, 3), stride=(1, 1), padding=(1, 1))\n",
            "    (7): ReLU(inplace)\n",
            "    (8): Conv2d(384, 256, kernel_size=(3, 3), stride=(1, 1), padding=(1, 1))\n",
            "    (9): ReLU(inplace)\n",
            "    (10): Conv2d(256, 256, kernel_size=(3, 3), stride=(1, 1), padding=(1, 1))\n",
            "    (11): ReLU(inplace)\n",
            "    (12): MaxPool2d(kernel_size=3, stride=2, padding=0, dilation=1, ceil_mode=False)\n",
            "  )\n",
            "  (avgpool): AdaptiveAvgPool2d(output_size=(6, 6))\n",
            "  (classifier): Sequential(\n",
            "    (0): Dropout(p=0.5)\n",
            "    (1): Linear(in_features=9216, out_features=4096, bias=True)\n",
            "    (2): ReLU(inplace)\n",
            "    (3): Dropout(p=0.5)\n",
            "    (4): Linear(in_features=4096, out_features=4096, bias=True)\n",
            "    (5): ReLU(inplace)\n",
            "    (6): Linear(in_features=4096, out_features=1000, bias=True)\n",
            "  )\n",
            ")\n"
          ],
          "name": "stdout"
        }
      ]
    },
    {
      "cell_type": "code",
      "metadata": {
        "id": "w33n1u5Zl2tP",
        "colab_type": "code",
        "colab": {}
      },
      "source": [
        "#Freeze all layers except the last one\n",
        "\n",
        "for param in model_conv.parameters():\n",
        "    param.requires_grad = False "
      ],
      "execution_count": 0,
      "outputs": []
    },
    {
      "cell_type": "code",
      "metadata": {
        "id": "Vdj0dmd0l9cf",
        "colab_type": "code",
        "colab": {}
      },
      "source": [
        "import torch.nn as nn\n",
        "\n",
        "# Number of features in the bottleneck layer\n",
        "num_ftrs = model_conv.classifier[6].in_features\n",
        "\n",
        "#Substitute it with a new fully connected layer with the same number of inputs but only 10 outputs\n",
        "#Since this MNIST dataset and different from the ImageNet, we are using a linear classifier\n",
        "model_conv.classifier[6] = nn.Linear(num_ftrs, 10)"
      ],
      "execution_count": 0,
      "outputs": []
    },
    {
      "cell_type": "code",
      "metadata": {
        "id": "mYDHbbGkl_Lf",
        "colab_type": "code",
        "colab": {}
      },
      "source": [
        "import torch.optim as optim\n",
        "\n",
        "# define cross entropy loss\n",
        "criterion = nn.CrossEntropyLoss()\n",
        "\n",
        "# define the optimizer. Note that we tell the optimizer to only update the \n",
        "# parameters in the last layer. Also, remember that we have set requires_grad=False\n",
        "# on all other parameters of the model, so the optimizer wouldn't have gradient\n",
        "# information on them if we asked it to update all the parameters.\n",
        "optimizer_conv = optim.SGD(model_conv.classifier[6].parameters(), lr=1e-4, momentum=0.9)"
      ],
      "execution_count": 0,
      "outputs": []
    },
    {
      "cell_type": "code",
      "metadata": {
        "id": "dbvxeWUgoyFf",
        "colab_type": "code",
        "outputId": "e2103a2a-a606-4f2b-eb4c-422aa674d19c",
        "colab": {
          "base_uri": "https://localhost:8080/",
          "height": 34
        }
      },
      "source": [
        "#Define the device that you are running\n",
        "device = torch.device(\"cuda:0\" if torch.cuda.is_available() else \"cpu\")\n",
        "print(\"Running on device: {}\".format(device))"
      ],
      "execution_count": 11,
      "outputs": [
        {
          "output_type": "stream",
          "text": [
            "Running on device: cpu\n"
          ],
          "name": "stdout"
        }
      ]
    },
    {
      "cell_type": "code",
      "metadata": {
        "id": "LJae0geJmAt3",
        "colab_type": "code",
        "colab": {}
      },
      "source": [
        "import time\n",
        "\n",
        "# generic training function\n",
        "def train_model(model, criterion, optimizer, num_epochs=25):\n",
        "    since = time.time()\n",
        "    \n",
        "    for epoch in range(num_epochs):\n",
        "        print('Epoch {}/{}'.format(epoch, num_epochs - 1))\n",
        "        print('-' * 10)\n",
        "\n",
        "        # Each epoch has a training and validation phase\n",
        "        for phase in ['train', 'val']:\n",
        "            if phase == 'train':\n",
        "                model.train()  # Set model to training mode\n",
        "            else:\n",
        "                model.eval()   # Set model to evaluate mode\n",
        "\n",
        "            running_loss = 0.0\n",
        "            running_corrects = 0\n",
        "\n",
        "            # Iterate over data.\n",
        "            for inputs, labels in dataloaders[phase]:\n",
        "                inputs = inputs.to(device)\n",
        "                labels = labels.to(device)\n",
        "\n",
        "                # zero the parameter gradients\n",
        "                optimizer.zero_grad()\n",
        "\n",
        "                # forward\n",
        "                # track history only if in train\n",
        "                with torch.set_grad_enabled(phase == 'train'):\n",
        "                    outputs = model(inputs)\n",
        "                    _, preds = torch.max(outputs, 1)\n",
        "                    loss = criterion(outputs, labels)\n",
        "\n",
        "                    # backward + optimize only if in training phase\n",
        "                    if phase == 'train':\n",
        "                        loss.backward()\n",
        "                        optimizer.step()\n",
        "\n",
        "                # statistics\n",
        "                running_loss += loss.item() * inputs.size(0)\n",
        "                running_corrects += torch.sum(preds == labels.data)\n",
        "\n",
        "            epoch_loss = running_loss / dataset_sizes[phase]\n",
        "            epoch_acc = running_corrects.double() / dataset_sizes[phase]\n",
        "\n",
        "            print('{} Loss: {:.4f} Acc: {:.4f}'.format(\n",
        "                phase, epoch_loss, epoch_acc))\n",
        "\n",
        "        print()\n",
        "\n",
        "    time_elapsed = time.time() - since\n",
        "    print('Training complete in {:.0f}m {:.0f}s'.format(\n",
        "        time_elapsed // 60, time_elapsed % 60))"
      ],
      "execution_count": 0,
      "outputs": []
    },
    {
      "cell_type": "code",
      "metadata": {
        "id": "OPcuJ3_QmeQI",
        "colab_type": "code",
        "outputId": "cb7fdc07-287b-461d-8a14-4c94953d3050",
        "colab": {
          "base_uri": "https://localhost:8080/",
          "height": 1000
        }
      },
      "source": [
        "#Train the model\n",
        "\n",
        "train_model(model_conv, criterion, optimizer_conv, num_epochs=25)"
      ],
      "execution_count": 13,
      "outputs": [
        {
          "output_type": "stream",
          "text": [
            "Epoch 0/24\n",
            "----------\n",
            "train Loss: 0.6534 Acc: 0.7810\n",
            "val Loss: 0.3902 Acc: 0.8749\n",
            "\n",
            "Epoch 1/24\n",
            "----------\n",
            "train Loss: 0.4865 Acc: 0.8369\n",
            "val Loss: 0.3437 Acc: 0.8884\n",
            "\n",
            "Epoch 2/24\n",
            "----------\n",
            "train Loss: 0.4501 Acc: 0.8495\n",
            "val Loss: 0.3181 Acc: 0.8971\n",
            "\n",
            "Epoch 3/24\n",
            "----------\n",
            "train Loss: 0.4341 Acc: 0.8535\n",
            "val Loss: 0.3044 Acc: 0.9027\n",
            "\n",
            "Epoch 4/24\n",
            "----------\n",
            "train Loss: 0.4207 Acc: 0.8579\n",
            "val Loss: 0.2911 Acc: 0.9068\n",
            "\n",
            "Epoch 5/24\n",
            "----------\n",
            "train Loss: 0.4149 Acc: 0.8591\n",
            "val Loss: 0.2934 Acc: 0.9023\n",
            "\n",
            "Epoch 6/24\n",
            "----------\n",
            "train Loss: 0.4035 Acc: 0.8633\n",
            "val Loss: 0.2916 Acc: 0.9053\n",
            "\n",
            "Epoch 7/24\n",
            "----------\n",
            "train Loss: 0.3964 Acc: 0.8653\n",
            "val Loss: 0.2791 Acc: 0.9089\n",
            "\n",
            "Epoch 8/24\n",
            "----------\n",
            "train Loss: 0.3915 Acc: 0.8678\n",
            "val Loss: 0.2899 Acc: 0.9031\n",
            "\n",
            "Epoch 9/24\n",
            "----------\n",
            "train Loss: 0.3915 Acc: 0.8674\n",
            "val Loss: 0.2737 Acc: 0.9086\n",
            "\n",
            "Epoch 10/24\n",
            "----------\n",
            "train Loss: 0.3863 Acc: 0.8706\n",
            "val Loss: 0.2886 Acc: 0.9029\n",
            "\n",
            "Epoch 11/24\n",
            "----------\n",
            "train Loss: 0.3769 Acc: 0.8732\n",
            "val Loss: 0.2792 Acc: 0.9048\n",
            "\n",
            "Epoch 12/24\n",
            "----------\n",
            "train Loss: 0.3802 Acc: 0.8714\n",
            "val Loss: 0.2738 Acc: 0.9070\n",
            "\n",
            "Epoch 13/24\n",
            "----------\n",
            "train Loss: 0.3754 Acc: 0.8729\n",
            "val Loss: 0.2700 Acc: 0.9083\n",
            "\n",
            "Epoch 14/24\n",
            "----------\n",
            "train Loss: 0.3723 Acc: 0.8736\n",
            "val Loss: 0.2605 Acc: 0.9165\n",
            "\n",
            "Epoch 15/24\n",
            "----------\n",
            "train Loss: 0.3712 Acc: 0.8734\n",
            "val Loss: 0.2721 Acc: 0.9067\n",
            "\n",
            "Epoch 16/24\n",
            "----------\n",
            "train Loss: 0.3667 Acc: 0.8755\n",
            "val Loss: 0.2599 Acc: 0.9154\n",
            "\n",
            "Epoch 17/24\n",
            "----------\n",
            "train Loss: 0.3709 Acc: 0.8748\n",
            "val Loss: 0.2650 Acc: 0.9113\n",
            "\n",
            "Epoch 18/24\n",
            "----------\n",
            "train Loss: 0.3692 Acc: 0.8746\n",
            "val Loss: 0.2614 Acc: 0.9136\n",
            "\n",
            "Epoch 19/24\n",
            "----------\n",
            "train Loss: 0.3638 Acc: 0.8759\n",
            "val Loss: 0.2566 Acc: 0.9163\n",
            "\n",
            "Epoch 20/24\n",
            "----------\n",
            "train Loss: 0.3615 Acc: 0.8775\n",
            "val Loss: 0.2686 Acc: 0.9083\n",
            "\n",
            "Epoch 21/24\n",
            "----------\n",
            "train Loss: 0.3606 Acc: 0.8776\n",
            "val Loss: 0.2615 Acc: 0.9147\n",
            "\n",
            "Epoch 22/24\n",
            "----------\n",
            "train Loss: 0.3591 Acc: 0.8784\n",
            "val Loss: 0.2559 Acc: 0.9151\n",
            "\n",
            "Epoch 23/24\n",
            "----------\n",
            "train Loss: 0.3640 Acc: 0.8759\n",
            "val Loss: 0.2593 Acc: 0.9137\n",
            "\n",
            "Epoch 24/24\n",
            "----------\n",
            "train Loss: 0.3621 Acc: 0.8769\n",
            "val Loss: 0.2485 Acc: 0.9184\n",
            "\n",
            "Training complete in 145m 43s\n"
          ],
          "name": "stdout"
        }
      ]
    }
  ]
}